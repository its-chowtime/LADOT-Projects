{
 "cells": [
  {
   "cell_type": "code",
   "execution_count": 5,
   "metadata": {},
   "outputs": [],
   "source": [
    "import requests\n",
    "import pandas as pd\n",
    "import json"
   ]
  },
  {
   "cell_type": "code",
   "execution_count": 6,
   "metadata": {},
   "outputs": [],
   "source": [
    "pull_data = requests.get('https://mds.bird.co/gbfs/los-angeles/free_bikes').json()"
   ]
  },
  {
   "cell_type": "code",
   "execution_count": 18,
   "metadata": {},
   "outputs": [],
   "source": [
    "mds_df = pd.DataFrame(pull_data['data']['bikes'])"
   ]
  },
  {
   "cell_type": "code",
   "execution_count": 19,
   "metadata": {},
   "outputs": [
    {
     "data": {
      "text/html": [
       "<div>\n",
       "<style scoped>\n",
       "    .dataframe tbody tr th:only-of-type {\n",
       "        vertical-align: middle;\n",
       "    }\n",
       "\n",
       "    .dataframe tbody tr th {\n",
       "        vertical-align: top;\n",
       "    }\n",
       "\n",
       "    .dataframe thead th {\n",
       "        text-align: right;\n",
       "    }\n",
       "</style>\n",
       "<table border=\"1\" class=\"dataframe\">\n",
       "  <thead>\n",
       "    <tr style=\"text-align: right;\">\n",
       "      <th></th>\n",
       "      <th>bike_id</th>\n",
       "      <th>lat</th>\n",
       "      <th>lon</th>\n",
       "      <th>is_reserved</th>\n",
       "      <th>is_disabled</th>\n",
       "    </tr>\n",
       "  </thead>\n",
       "  <tbody>\n",
       "    <tr>\n",
       "      <td>0</td>\n",
       "      <td>45bd3dd7-8c72-4b4d-a356-8cf3a7bcb7b0</td>\n",
       "      <td>34.056608</td>\n",
       "      <td>-118.237572</td>\n",
       "      <td>0</td>\n",
       "      <td>0</td>\n",
       "    </tr>\n",
       "    <tr>\n",
       "      <td>1</td>\n",
       "      <td>d2ea6b6e-5e27-4218-b4df-d9667a1df48e</td>\n",
       "      <td>34.033535</td>\n",
       "      <td>-118.381542</td>\n",
       "      <td>0</td>\n",
       "      <td>0</td>\n",
       "    </tr>\n",
       "    <tr>\n",
       "      <td>2</td>\n",
       "      <td>462226eb-051b-4926-8e6f-201fadca4e29</td>\n",
       "      <td>34.052589</td>\n",
       "      <td>-118.268121</td>\n",
       "      <td>0</td>\n",
       "      <td>0</td>\n",
       "    </tr>\n",
       "    <tr>\n",
       "      <td>3</td>\n",
       "      <td>2fac580a-a4c6-4f67-8966-28fddd40b509</td>\n",
       "      <td>33.991888</td>\n",
       "      <td>-118.413923</td>\n",
       "      <td>0</td>\n",
       "      <td>0</td>\n",
       "    </tr>\n",
       "    <tr>\n",
       "      <td>4</td>\n",
       "      <td>9b49ccf0-7d31-4bc5-9f49-adfe13d9764b</td>\n",
       "      <td>34.030512</td>\n",
       "      <td>-118.402159</td>\n",
       "      <td>0</td>\n",
       "      <td>0</td>\n",
       "    </tr>\n",
       "    <tr>\n",
       "      <td>...</td>\n",
       "      <td>...</td>\n",
       "      <td>...</td>\n",
       "      <td>...</td>\n",
       "      <td>...</td>\n",
       "      <td>...</td>\n",
       "    </tr>\n",
       "    <tr>\n",
       "      <td>2051</td>\n",
       "      <td>052ef59b-dd3f-45fa-a752-e2a3ae53c16c</td>\n",
       "      <td>34.087188</td>\n",
       "      <td>-118.346790</td>\n",
       "      <td>0</td>\n",
       "      <td>0</td>\n",
       "    </tr>\n",
       "    <tr>\n",
       "      <td>2052</td>\n",
       "      <td>0077dd08-a30d-4b5b-a44a-b30b291f7e6a</td>\n",
       "      <td>34.085588</td>\n",
       "      <td>-118.361803</td>\n",
       "      <td>0</td>\n",
       "      <td>0</td>\n",
       "    </tr>\n",
       "    <tr>\n",
       "      <td>2053</td>\n",
       "      <td>b3c9b95e-c84e-4a92-b689-291f184eab59</td>\n",
       "      <td>34.101327</td>\n",
       "      <td>-118.323928</td>\n",
       "      <td>0</td>\n",
       "      <td>0</td>\n",
       "    </tr>\n",
       "    <tr>\n",
       "      <td>2054</td>\n",
       "      <td>54c286fa-25a6-466a-8a0b-3a617d3ae454</td>\n",
       "      <td>34.027618</td>\n",
       "      <td>-118.280578</td>\n",
       "      <td>0</td>\n",
       "      <td>0</td>\n",
       "    </tr>\n",
       "    <tr>\n",
       "      <td>2055</td>\n",
       "      <td>15b2f361-30ec-4fd6-9f28-ccc8e57cc261</td>\n",
       "      <td>34.046899</td>\n",
       "      <td>-118.257271</td>\n",
       "      <td>0</td>\n",
       "      <td>0</td>\n",
       "    </tr>\n",
       "  </tbody>\n",
       "</table>\n",
       "<p>2056 rows × 5 columns</p>\n",
       "</div>"
      ],
      "text/plain": [
       "                                   bike_id        lat         lon  \\\n",
       "0     45bd3dd7-8c72-4b4d-a356-8cf3a7bcb7b0  34.056608 -118.237572   \n",
       "1     d2ea6b6e-5e27-4218-b4df-d9667a1df48e  34.033535 -118.381542   \n",
       "2     462226eb-051b-4926-8e6f-201fadca4e29  34.052589 -118.268121   \n",
       "3     2fac580a-a4c6-4f67-8966-28fddd40b509  33.991888 -118.413923   \n",
       "4     9b49ccf0-7d31-4bc5-9f49-adfe13d9764b  34.030512 -118.402159   \n",
       "...                                    ...        ...         ...   \n",
       "2051  052ef59b-dd3f-45fa-a752-e2a3ae53c16c  34.087188 -118.346790   \n",
       "2052  0077dd08-a30d-4b5b-a44a-b30b291f7e6a  34.085588 -118.361803   \n",
       "2053  b3c9b95e-c84e-4a92-b689-291f184eab59  34.101327 -118.323928   \n",
       "2054  54c286fa-25a6-466a-8a0b-3a617d3ae454  34.027618 -118.280578   \n",
       "2055  15b2f361-30ec-4fd6-9f28-ccc8e57cc261  34.046899 -118.257271   \n",
       "\n",
       "      is_reserved  is_disabled  \n",
       "0               0            0  \n",
       "1               0            0  \n",
       "2               0            0  \n",
       "3               0            0  \n",
       "4               0            0  \n",
       "...           ...          ...  \n",
       "2051            0            0  \n",
       "2052            0            0  \n",
       "2053            0            0  \n",
       "2054            0            0  \n",
       "2055            0            0  \n",
       "\n",
       "[2056 rows x 5 columns]"
      ]
     },
     "execution_count": 19,
     "metadata": {},
     "output_type": "execute_result"
    }
   ],
   "source": [
    "mds_df"
   ]
  },
  {
   "cell_type": "code",
   "execution_count": 26,
   "metadata": {},
   "outputs": [],
   "source": [
    "count_of = len(mds_df['bike_id'])"
   ]
  },
  {
   "cell_type": "code",
   "execution_count": 27,
   "metadata": {},
   "outputs": [],
   "source": [
    "time_track = pull_data['last_updated']"
   ]
  },
  {
   "cell_type": "code",
   "execution_count": 28,
   "metadata": {},
   "outputs": [],
   "source": [
    "# def store_to():\n",
    "    "
   ]
  },
  {
   "cell_type": "code",
   "execution_count": 31,
   "metadata": {},
   "outputs": [],
   "source": [
    "f = open('mds_dash.csv','w')\n",
    "f.write(str(count_of)) #Give your csv text here.\n",
    "## Python will convert \\n to os.linesep\n",
    "f.close()"
   ]
  },
  {
   "cell_type": "code",
   "execution_count": null,
   "metadata": {},
   "outputs": [],
   "source": []
  }
 ],
 "metadata": {
  "kernelspec": {
   "display_name": "Python 3",
   "language": "python",
   "name": "python3"
  },
  "language_info": {
   "codemirror_mode": {
    "name": "ipython",
    "version": 3
   },
   "file_extension": ".py",
   "mimetype": "text/x-python",
   "name": "python",
   "nbconvert_exporter": "python",
   "pygments_lexer": "ipython3",
   "version": "3.7.3"
  }
 },
 "nbformat": 4,
 "nbformat_minor": 2
}
